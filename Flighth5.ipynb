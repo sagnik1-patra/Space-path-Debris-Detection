{
 "cells": [
  {
   "cell_type": "code",
   "execution_count": 1,
   "id": "648fe88a-c571-4159-9246-e9b8fe41e212",
   "metadata": {},
   "outputs": [
    {
     "name": "stdout",
     "output_type": "stream",
     "text": [
      "✅ Model saved to: C:\\Users\\sagni\\Downloads\\Spacepath Debris Detection\\isolation_forest_model.pkl\n",
      "✅ Scaler saved to: C:\\Users\\sagni\\Downloads\\Spacepath Debris Detection\\scaler.pkl\n",
      "✅ Results saved to: C:\\Users\\sagni\\Downloads\\Spacepath Debris Detection\\anomaly_results.csv\n"
     ]
    }
   ],
   "source": [
    "import pandas as pd\n",
    "import numpy as np\n",
    "from sklearn.ensemble import IsolationForest\n",
    "from sklearn.preprocessing import StandardScaler\n",
    "import matplotlib.pyplot as plt\n",
    "import joblib\n",
    "import os\n",
    "\n",
    "# Paths\n",
    "folder = r\"C:\\Users\\sagni\\Downloads\\Spacepath Debris Detection\"\n",
    "csv_path = os.path.join(folder, \"aircraft-data_nov_dec.csv\")\n",
    "model_path = os.path.join(folder, \"isolation_forest_model.pkl\")\n",
    "scaler_path = os.path.join(folder, \"scaler.pkl\")\n",
    "output_csv = os.path.join(folder, \"anomaly_results.csv\")\n",
    "\n",
    "# Load data\n",
    "df = pd.read_csv(csv_path)\n",
    "features = ['alt', 'mph', 'lat', 'long']\n",
    "df = df.dropna(subset=features)\n",
    "\n",
    "# Preprocessing\n",
    "scaler = StandardScaler()\n",
    "X_scaled = scaler.fit_transform(df[features])\n",
    "\n",
    "# Model training\n",
    "model = IsolationForest(n_estimators=100, contamination=0.01, random_state=42)\n",
    "model.fit(X_scaled)\n",
    "\n",
    "# Anomaly detection\n",
    "df['anomaly_score'] = model.decision_function(X_scaled)\n",
    "df['is_anomaly'] = model.predict(X_scaled).astype(int)\n",
    "df['is_anomaly'] = df['is_anomaly'].map({1: 0, -1: 1})\n",
    "\n",
    "# Save model and scaler\n",
    "joblib.dump(model, model_path)\n",
    "joblib.dump(scaler, scaler_path)\n",
    "\n",
    "# Save results\n",
    "df.to_csv(output_csv, index=False)\n",
    "\n",
    "print(f\"✅ Model saved to: {model_path}\")\n",
    "print(f\"✅ Scaler saved to: {scaler_path}\")\n",
    "print(f\"✅ Results saved to: {output_csv}\")\n"
   ]
  },
  {
   "cell_type": "code",
   "execution_count": null,
   "id": "b656f495-f0e2-4af4-a6aa-4c6677fe3118",
   "metadata": {},
   "outputs": [],
   "source": []
  }
 ],
 "metadata": {
  "kernelspec": {
   "display_name": "Python 3.11 (moviepy)",
   "language": "python",
   "name": "py311"
  },
  "language_info": {
   "codemirror_mode": {
    "name": "ipython",
    "version": 3
   },
   "file_extension": ".py",
   "mimetype": "text/x-python",
   "name": "python",
   "nbconvert_exporter": "python",
   "pygments_lexer": "ipython3",
   "version": "3.11.9"
  }
 },
 "nbformat": 4,
 "nbformat_minor": 5
}
